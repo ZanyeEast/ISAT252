{
 "cells": [
  {
   "cell_type": "markdown",
   "metadata": {},
   "source": [
    "# Read Files into Python\n",
    "\n",
    "## Read Text Files"
   ]
  },
  {
   "cell_type": "code",
   "execution_count": 33,
   "metadata": {},
   "outputs": [
    {
     "name": "stdout",
     "output_type": "stream",
     "text": [
      "Recognizing the nation's history of racism and violence perpetrated against Black communities and communities of color, town halls for the JMU community are scheduled on June 3, 4 and 11 to better understand and address racial injustice and inequities.\n",
      "\n",
      "“We know this grief and pain extends throughout our community, and want you to know that on behalf of the institution and as an individual, I stand with you,” said JMU President Jonathan R. Alger. “We will do everything we can to help create a better tomorrow – one in which no individual has to live in fear that they may someday become a target of hate.” \n",
      "\n",
      "The town halls will allow for students, faculty and staff to share personal experiences and suggestions for ways in which colleagues and decision-makers can make Madison a more welcoming and inclusive place for under-represented students, faculty, and staff — now and in the future. Details are as follows. \n",
      "\n",
      "JMU and Community Town Hall\n",
      "6/3 @ 7 p.m.\n",
      "Hosted by: The James Madison Center for Civic Engagement\n",
      "https://bit.ly/JMUEndRacism \n",
      "\n",
      "\n",
      "Faculty and Staff Town Hall\n",
      "6/4 @ 4 p.m.\n",
      "Hosted by: Heather Coltman, Provost and Tim Miller, Vice President for Student Affairs\n",
      "https://bit.ly/JMU-FacultyStaff-Town-Hall\n",
      "\n",
      "\n",
      "Student Town Hall\n",
      "6/11 @ 4 p.m.\n",
      "Hosted by: Heather Coltman, Provost and Tim Miller, Vice President for Student Affairs\n",
      "https://bit.ly/JMU-Student-Town-Hall  \n",
      "\n",
      "# # #\n",
      "\n",
      "Back to Top\n",
      "\n",
      "Published: Tuesday, June 2, 2020\n",
      "\n",
      "Last Updated: Tuesday, June 2, 2020\n"
     ]
    }
   ],
   "source": [
    "jmu_news = open('jmu_news.txt','r')\n",
    "\n",
    "news_content = jmu_news.read()\n",
    "\n",
    "print(news_content)"
   ]
  },
  {
   "cell_type": "markdown",
   "metadata": {},
   "source": [
    "Use with/as statement (best practice)"
   ]
  },
  {
   "cell_type": "code",
   "execution_count": 34,
   "metadata": {},
   "outputs": [
    {
     "name": "stdout",
     "output_type": "stream",
     "text": [
      "Recognizing the nation's history of racism and violence perpetrated against Black communities and communities of color, town halls for the JMU community are scheduled on June 3, 4 and 11 to better understand and address racial injustice and inequities.\n",
      "\n",
      "“We know this grief and pain extends throughout our community, and want you to know that on behalf of the institution and as an individual, I stand with you,” said JMU President Jonathan R. Alger. “We will do everything we can to help create a better tomorrow – one in which no individual has to live in fear that they may someday become a target of hate.” \n",
      "\n",
      "The town halls will allow for students, faculty and staff to share personal experiences and suggestions for ways in which colleagues and decision-makers can make Madison a more welcoming and inclusive place for under-represented students, faculty, and staff — now and in the future. Details are as follows. \n",
      "\n",
      "JMU and Community Town Hall\n",
      "6/3 @ 7 p.m.\n",
      "Hosted by: The James Madison Center for Civic Engagement\n",
      "https://bit.ly/JMUEndRacism \n",
      "\n",
      "\n",
      "Faculty and Staff Town Hall\n",
      "6/4 @ 4 p.m.\n",
      "Hosted by: Heather Coltman, Provost and Tim Miller, Vice President for Student Affairs\n",
      "https://bit.ly/JMU-FacultyStaff-Town-Hall\n",
      "\n",
      "\n",
      "Student Town Hall\n",
      "6/11 @ 4 p.m.\n",
      "Hosted by: Heather Coltman, Provost and Tim Miller, Vice President for Student Affairs\n",
      "https://bit.ly/JMU-Student-Town-Hall  \n",
      "\n",
      "# # #\n",
      "\n",
      "Back to Top\n",
      "\n",
      "Published: Tuesday, June 2, 2020\n",
      "\n",
      "Last Updated: Tuesday, June 2, 2020\n"
     ]
    }
   ],
   "source": [
    "with open('jmu_news.txt','r') as jmu_news:\n",
    "    print(jmu_news.read())"
   ]
  },
  {
   "cell_type": "markdown",
   "metadata": {},
   "source": [
    "try counter"
   ]
  },
  {
   "cell_type": "code",
   "execution_count": 35,
   "metadata": {},
   "outputs": [
    {
     "name": "stdout",
     "output_type": "stream",
     "text": [
      "a 3\n",
      "b 2\n"
     ]
    }
   ],
   "source": [
    "from collections import Counter\n",
    "\n",
    "count_result = Counter(['a', 'a', 'a', 'b', 'b', 'c'])\n",
    "\n",
    "for word,count in count_result.most_common(2):\n",
    "    print(word,count)"
   ]
  },
  {
   "cell_type": "markdown",
   "metadata": {},
   "source": [
    "find the top 10 words"
   ]
  },
  {
   "cell_type": "code",
   "execution_count": 36,
   "metadata": {},
   "outputs": [
    {
     "name": "stdout",
     "output_type": "stream",
     "text": [
      "and 18\n",
      "for 7\n",
      "to 6\n",
      "the 4\n",
      "of 4\n",
      "in 4\n",
      "JMU 3\n",
      "June 3\n",
      "4 3\n",
      "President 3\n"
     ]
    }
   ],
   "source": [
    "with open('jmu_news.txt','r') as jmu_news:\n",
    "    \n",
    "    news_content = jmu_news.read()\n",
    "    \n",
    "    word_list = news_content.split()\n",
    "    \n",
    "    count_result = Counter(word_list)\n",
    "    \n",
    "    for word, count in count_result.most_common(10):\n",
    "        print(word,count)"
   ]
  },
  {
   "cell_type": "markdown",
   "metadata": {},
   "source": [
    "list generator"
   ]
  },
  {
   "cell_type": "code",
   "execution_count": 37,
   "metadata": {},
   "outputs": [
    {
     "name": "stdout",
     "output_type": "stream",
     "text": [
      "[2, 3, 4, 5]\n"
     ]
    }
   ],
   "source": [
    "num_list = [1,2,3,4]\n",
    "\n",
    "new_list = [  num+1   for num in num_list]\n",
    "\n",
    "print(new_list)"
   ]
  },
  {
   "cell_type": "markdown",
   "metadata": {},
   "source": [
    "convert all the words of jmu news to lower cases"
   ]
  },
  {
   "cell_type": "code",
   "execution_count": 38,
   "metadata": {},
   "outputs": [
    {
     "name": "stdout",
     "output_type": "stream",
     "text": [
      "['recognizing', 'the', \"nation's\", 'history', 'of', 'racism', 'and', 'violence', 'perpetrated', 'against', 'black', 'communities', 'and', 'communities', 'of', 'color,', 'town', 'halls', 'for', 'the', 'jmu', 'community', 'are', 'scheduled', 'on', 'june', '3,', '4', 'and', '11', 'to', 'better', 'understand', 'and', 'address', 'racial', 'injustice', 'and', 'inequities.', '“we', 'know', 'this', 'grief', 'and', 'pain', 'extends', 'throughout', 'our', 'community,', 'and', 'want', 'you', 'to', 'know', 'that', 'on', 'behalf', 'of', 'the', 'institution', 'and', 'as', 'an', 'individual,', 'i', 'stand', 'with', 'you,”', 'said', 'jmu', 'president', 'jonathan', 'r.', 'alger.', '“we', 'will', 'do', 'everything', 'we', 'can', 'to', 'help', 'create', 'a', 'better', 'tomorrow', '–', 'one', 'in', 'which', 'no', 'individual', 'has', 'to', 'live', 'in', 'fear', 'that', 'they', 'may', 'someday', 'become', 'a', 'target', 'of', 'hate.”', 'the', 'town', 'halls', 'will', 'allow', 'for', 'students,', 'faculty', 'and', 'staff', 'to', 'share', 'personal', 'experiences', 'and', 'suggestions', 'for', 'ways', 'in', 'which', 'colleagues', 'and', 'decision-makers', 'can', 'make', 'madison', 'a', 'more', 'welcoming', 'and', 'inclusive', 'place', 'for', 'under-represented', 'students,', 'faculty,', 'and', 'staff', '—', 'now', 'and', 'in', 'the', 'future.', 'details', 'are', 'as', 'follows.', 'jmu', 'and', 'community', 'town', 'hall', '6/3', '@', '7', 'p.m.', 'hosted', 'by:', 'the', 'james', 'madison', 'center', 'for', 'civic', 'engagement', 'https://bit.ly/jmuendracism', 'faculty', 'and', 'staff', 'town', 'hall', '6/4', '@', '4', 'p.m.', 'hosted', 'by:', 'heather', 'coltman,', 'provost', 'and', 'tim', 'miller,', 'vice', 'president', 'for', 'student', 'affairs', 'https://bit.ly/jmu-facultystaff-town-hall', 'student', 'town', 'hall', '6/11', '@', '4', 'p.m.', 'hosted', 'by:', 'heather', 'coltman,', 'provost', 'and', 'tim', 'miller,', 'vice', 'president', 'for', 'student', 'affairs', 'https://bit.ly/jmu-student-town-hall', '#', '#', '#', 'back', 'to', 'top', 'published:', 'tuesday,', 'june', '2,', '2020', 'last', 'updated:', 'tuesday,', 'june', '2,', '2020']\n"
     ]
    }
   ],
   "source": [
    "with open('jmu_news.txt','r') as jmu_news:\n",
    "    \n",
    "    news_content = jmu_news.read()\n",
    "    \n",
    "    word_list = news_content.split()\n",
    "    \n",
    "    low_case_list = [ word.lower()  for word in word_list]\n",
    "    \n",
    "    print(low_case_list)"
   ]
  },
  {
   "cell_type": "markdown",
   "metadata": {},
   "source": [
    "try string format"
   ]
  },
  {
   "cell_type": "code",
   "execution_count": 39,
   "metadata": {},
   "outputs": [
    {
     "name": "stdout",
     "output_type": "stream",
     "text": [
      "Tim's income is $70000.\n"
     ]
    }
   ],
   "source": [
    "print(\"{0}'s income is ${1}.\".format('Tim',70000))"
   ]
  },
  {
   "cell_type": "markdown",
   "metadata": {},
   "source": [
    "## read json file"
   ]
  },
  {
   "cell_type": "code",
   "execution_count": 40,
   "metadata": {},
   "outputs": [],
   "source": [
    "import json\n",
    "from pprint import pprint"
   ]
  },
  {
   "cell_type": "code",
   "execution_count": 41,
   "metadata": {},
   "outputs": [
    {
     "name": "stdout",
     "output_type": "stream",
     "text": [
      "'http://www.jmu.edu'\n",
      "7657\n"
     ]
    }
   ],
   "source": [
    "with open('demo.json','r') as json_file:\n",
    "    \n",
    "    json_dict = json.load(json_file)\n",
    "    \n",
    "    pprint(json_dict['id']) #get the url\n",
    "    pprint(json_dict['share']['share_count']) #get nested value"
   ]
  },
  {
   "cell_type": "markdown",
   "metadata": {},
   "source": [
    "## read data from websites"
   ]
  },
  {
   "cell_type": "code",
   "execution_count": 42,
   "metadata": {},
   "outputs": [],
   "source": [
    "import urllib.request"
   ]
  },
  {
   "cell_type": "code",
   "execution_count": null,
   "metadata": {},
   "outputs": [],
   "source": [
    "url = 'http://www.jmu.edu'\n",
    "\n",
    "response = urllib.request.urlopen(url)\n",
    "\n",
    "web_content = response.read()\n",
    "\n",
    "print(web_content.decode('utf-8'))"
   ]
  },
  {
   "cell_type": "code",
   "execution_count": null,
   "metadata": {},
   "outputs": [],
   "source": []
  }
 ],
 "metadata": {
  "kernelspec": {
   "display_name": "conda_python3",
   "language": "python",
   "name": "conda_python3"
  },
  "language_info": {
   "codemirror_mode": {
    "name": "ipython",
    "version": 3
   },
   "file_extension": ".py",
   "mimetype": "text/x-python",
   "name": "python",
   "nbconvert_exporter": "python",
   "pygments_lexer": "ipython3",
   "version": "3.6.5"
  }
 },
 "nbformat": 4,
 "nbformat_minor": 4
}
