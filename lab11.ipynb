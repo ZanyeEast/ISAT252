{
 "cells": [
  {
   "cell_type": "markdown",
   "metadata": {},
   "source": [
    "# Download Census Data"
   ]
  },
  {
   "cell_type": "code",
   "execution_count": 1,
   "metadata": {},
   "outputs": [
    {
     "name": "stdout",
     "output_type": "stream",
     "text": [
      "['B01001_001E', 'NAME', 'state', 'county']\n",
      "443630 Prince William County, Virginia 51 153\n",
      "34417 Pulaski County, Virginia 51 155\n",
      "7416 Rappahannock County, Virginia 51 157\n",
      "8868 Richmond County, Virginia 51 159\n",
      "93655 Roanoke County, Virginia 51 161\n",
      "22450 Rockbridge County, Virginia 51 163\n",
      "78427 Rockingham County, Virginia 51 165\n",
      "27973 Russell County, Virginia 51 167\n",
      "22378 Scott County, Virginia 51 169\n",
      "42857 Shenandoah County, Virginia 51 171\n",
      "31513 Smyth County, Virginia 51 173\n",
      "18291 Southampton County, Virginia 51 175\n",
      "129181 Spotsylvania County, Virginia 51 177\n",
      "139548 Stafford County, Virginia 51 179\n",
      "6731 Surry County, Virginia 51 181\n",
      "11733 Sussex County, Virginia 51 183\n",
      "43367 Tazewell County, Virginia 51 185\n",
      "38807 Warren County, Virginia 51 187\n",
      "54562 Washington County, Virginia 51 191\n",
      "17528 Westmoreland County, Virginia 51 193\n",
      "40074 Wise County, Virginia 51 195\n",
      "29171 Wythe County, Virginia 51 197\n",
      "66919 York County, Virginia 51 199\n",
      "151473 Alexandria city, Virginia 51 510\n",
      "17340 Bristol city, Virginia 51 520\n",
      "6610 Buena Vista city, Virginia 51 530\n",
      "45538 Charlottesville city, Virginia 51 540\n",
      "233194 Chesapeake city, Virginia 51 550\n",
      "17554 Colonial Heights city, Virginia 51 570\n",
      "5650 Covington city, Virginia 51 580\n",
      "42360 Danville city, Virginia 51 590\n",
      "5565 Emporia city, Virginia 51 595\n",
      "23620 Fairfax city, Virginia 51 600\n",
      "13597 Falls Church city, Virginia 51 610\n",
      "8413 Franklin city, Virginia 51 620\n",
      "27853 Fredericksburg city, Virginia 51 630\n",
      "6858 Galax city, Virginia 51 640\n",
      "136789 Hampton city, Virginia 51 650\n",
      "51979 Harrisonburg city, Virginia 51 660\n",
      "22332 Hopewell city, Virginia 51 670\n",
      "7036 Lexington city, Virginia 51 678\n",
      "78755 Lynchburg city, Virginia 51 680\n",
      "41149 Manassas city, Virginia 51 683\n",
      "15827 Manassas Park city, Virginia 51 685\n",
      "13551 Martinsville city, Virginia 51 690\n",
      "181606 Newport News city, Virginia 51 700\n",
      "245724 Norfolk city, Virginia 51 710\n",
      "3978 Norton city, Virginia 51 720\n",
      "31997 Petersburg city, Virginia 51 730\n",
      "12068 Poquoson city, Virginia 51 735\n",
      "96071 Portsmouth city, Virginia 51 740\n",
      "17186 Radford city, Virginia 51 750\n",
      "216773 Richmond city, Virginia 51 760\n",
      "99329 Roanoke city, Virginia 51 770\n",
      "25290 Salem city, Virginia 51 775\n",
      "24234 Staunton city, Virginia 51 790\n",
      "87061 Suffolk city, Virginia 51 800\n",
      "449733 Virginia Beach city, Virginia 51 810\n",
      "21366 Waynesboro city, Virginia 51 820\n",
      "14988 Williamsburg city, Virginia 51 830\n",
      "27349 Winchester city, Virginia 51 840\n",
      "33060 Accomack County, Virginia 51 001\n",
      "104287 Albemarle County, Virginia 51 003\n",
      "15919 Alleghany County, Virginia 51 005\n",
      "12793 Amelia County, Virginia 51 007\n",
      "31999 Amherst County, Virginia 51 009\n",
      "15314 Appomattox County, Virginia 51 011\n",
      "226092 Arlington County, Virginia 51 013\n",
      "74330 Augusta County, Virginia 51 015\n",
      "4558 Bath County, Virginia 51 017\n",
      "76933 Bedford County, Virginia 51 019\n",
      "6612 Bland County, Virginia 51 021\n",
      "33192 Botetourt County, Virginia 51 023\n",
      "16573 Brunswick County, Virginia 51 025\n",
      "23158 Buchanan County, Virginia 51 027\n",
      "17030 Buckingham County, Virginia 51 029\n",
      "55061 Campbell County, Virginia 51 031\n",
      "29640 Caroline County, Virginia 51 033\n",
      "29733 Carroll County, Virginia 51 035\n",
      "7086 Charles City County, Virginia 51 036\n",
      "12232 Charlotte County, Virginia 51 037\n",
      "331839 Chesterfield County, Virginia 51 041\n",
      "14307 Clarke County, Virginia 51 043\n",
      "5195 Craig County, Virginia 51 045\n",
      "48952 Culpeper County, Virginia 51 047\n",
      "9769 Cumberland County, Virginia 51 049\n",
      "15304 Dickenson County, Virginia 51 051\n",
      "28155 Dinwiddie County, Virginia 51 053\n",
      "11130 Essex County, Virginia 51 057\n",
      "1132887 Fairfax County, Virginia 51 059\n",
      "68025 Fauquier County, Virginia 51 061\n",
      "15587 Floyd County, Virginia 51 063\n",
      "26046 Fluvanna County, Virginia 51 065\n",
      "56230 Franklin County, Virginia 51 067\n",
      "82321 Frederick County, Virginia 51 069\n",
      "16871 Giles County, Virginia 51 071\n",
      "37021 Gloucester County, Virginia 51 073\n",
      "21979 Goochland County, Virginia 51 075\n",
      "15180 Grayson County, Virginia 51 077\n",
      "19085 Greene County, Virginia 51 079\n",
      "11698 Greensville County, Virginia 51 081\n",
      "35305 Halifax County, Virginia 51 083\n",
      "102199 Hanover County, Virginia 51 085\n",
      "321921 Henrico County, Virginia 51 087\n",
      "52209 Henry County, Virginia 51 089\n",
      "2230 Highland County, Virginia 51 091\n",
      "36027 Isle of Wight County, Virginia 51 093\n",
      "71900 James City County, Virginia 51 095\n",
      "7140 King and Queen County, Virginia 51 097\n",
      "25260 King George County, Virginia 51 099\n",
      "16156 King William County, Virginia 51 101\n",
      "11055 Lancaster County, Virginia 51 103\n",
      "24911 Lee County, Virginia 51 105\n",
      "362435 Loudoun County, Virginia 51 107\n",
      "34350 Louisa County, Virginia 51 109\n",
      "12450 Lunenburg County, Virginia 51 111\n",
      "13122 Madison County, Virginia 51 113\n",
      "8848 Mathews County, Virginia 51 115\n",
      "31209 Mecklenburg County, Virginia 51 117\n",
      "10728 Middlesex County, Virginia 51 119\n",
      "97227 Montgomery County, Virginia 51 121\n",
      "14831 Nelson County, Virginia 51 125\n",
      "20051 New Kent County, Virginia 51 127\n",
      "12118 Northampton County, Virginia 51 131\n",
      "12272 Northumberland County, Virginia 51 133\n",
      "15641 Nottoway County, Virginia 51 135\n",
      "34873 Orange County, Virginia 51 137\n",
      "23759 Page County, Virginia 51 139\n",
      "18180 Patrick County, Virginia 51 141\n",
      "62392 Pittsylvania County, Virginia 51 143\n",
      "28286 Powhatan County, Virginia 51 145\n",
      "23077 Prince Edward County, Virginia 51 147\n",
      "37664 Prince George County, Virginia 51 149\n"
     ]
    }
   ],
   "source": [
    "from urllib import request\n",
    "import json\n",
    "from pprint import pprint\n",
    "\n",
    "\n",
    "census_api_key = 'a75d4e7c4e4f5e9b49e897f2c40b2354a621c985' #get your key from https://api.census.gov/data/key_signup.html\n",
    "\n",
    "\n",
    "url_str = 'https://api.census.gov/data/2016/acs/acs5?get=B01001_001E,NAME&for=county:*&in=state:51&key='+census_api_key # create the url of your census data\n",
    "\n",
    "response = request.urlopen(url_str) # read the response into computer\n",
    "\n",
    "html_str = response.read().decode(\"utf-8\") # convert the response into string\n",
    "if (html_str):\n",
    "    json_data = json.loads(html_str) # convert the string into json\n",
    "    print (json_data[0])\n",
    "    for v1,name,state,county in json_data[1:]:\n",
    "        print (v1,name,state,county )"
   ]
  },
  {
   "cell_type": "markdown",
   "metadata": {},
   "source": [
    "## 3.1"
   ]
  },
  {
   "cell_type": "code",
   "execution_count": 4,
   "metadata": {},
   "outputs": [
    {
     "name": "stdout",
     "output_type": "stream",
     "text": [
      "['B01001_001E', 'NAME', 'state', 'county']\n",
      "The Fairfax County, Virginia has 1132887 pop\n"
     ]
    }
   ],
   "source": [
    "from urllib import request\n",
    "import json\n",
    "from pprint import pprint\n",
    "\n",
    "\n",
    "census_api_key = 'a75d4e7c4e4f5e9b49e897f2c40b2354a621c985' #get your key from https://api.census.gov/data/key_signup.html\n",
    "\n",
    "\n",
    "url_str = 'https://api.census.gov/data/2016/acs/acs5?get=B01001_001E,NAME&for=county:*&in=state:51&key='+census_api_key # create the url of your census data\n",
    "\n",
    "response = request.urlopen(url_str) # read the response into computer\n",
    "\n",
    "max_pop = 0\n",
    "max_county =''\n",
    "html_str = response.read().decode(\"utf-8\") # convert the response into string\n",
    "if (html_str):\n",
    "    json_data = json.loads(html_str) # convert the string into json\n",
    "    print (json_data[0])\n",
    "    for v1,name,state,county in json_data[1:]:\n",
    "        if max_pop <= int(v1):\n",
    "            max_pop = int(v1)\n",
    "            max_county = name\n",
    "print (\"The {} has {} pop\".format(max_county,max_pop))"
   ]
  },
  {
   "cell_type": "markdown",
   "metadata": {},
   "source": [
    "Fairfax County has the largest population in VA with 1,132,887 residents"
   ]
  },
  {
   "cell_type": "markdown",
   "metadata": {},
   "source": [
    "## 3.2"
   ]
  },
  {
   "cell_type": "code",
   "execution_count": 8,
   "metadata": {},
   "outputs": [
    {
     "name": "stdout",
     "output_type": "stream",
     "text": [
      "['B01001_002E', 'NAME', 'state', 'county']\n",
      "The Fairfax County, Virginia has 560803 pop\n"
     ]
    }
   ],
   "source": [
    "from urllib import request\n",
    "import json\n",
    "from pprint import pprint\n",
    "\n",
    "\n",
    "census_api_key = 'a75d4e7c4e4f5e9b49e897f2c40b2354a621c985' #get your key from https://api.census.gov/data/key_signup.html\n",
    "\n",
    "\n",
    "url_str = 'https://api.census.gov/data/2016/acs/acs5?get=B01001_002E,NAME&for=county:*&in=state:51&key='+census_api_key # create the url of your census data\n",
    "\n",
    "response = request.urlopen(url_str) # read the response into computer\n",
    "\n",
    "max_pop = 0\n",
    "max_county =''\n",
    "html_str = response.read().decode(\"utf-8\") # convert the response into string\n",
    "if (html_str):\n",
    "    json_data = json.loads(html_str) # convert the string into json\n",
    "    print (json_data[0])\n",
    "    for v1,name,state,county in json_data[1:]:\n",
    "        if max_pop <= int(v1):\n",
    "            max_pop = int(v1)\n",
    "            max_county = name\n",
    "print (\"The {} has {} pop\".format(max_county,max_pop))"
   ]
  },
  {
   "cell_type": "markdown",
   "metadata": {},
   "source": [
    "Fairfax County has the largest male population in VA with a population of 560,803 male residents."
   ]
  },
  {
   "cell_type": "markdown",
   "metadata": {},
   "source": [
    "## 3.3"
   ]
  },
  {
   "cell_type": "code",
   "execution_count": 6,
   "metadata": {},
   "outputs": [
    {
     "name": "stdout",
     "output_type": "stream",
     "text": [
      "['B01001_001E', 'B01001_002E', 'NAME', 'state', 'county']\n",
      "The Sussex County, Virginia has 0.6575470894059491 pop\n"
     ]
    }
   ],
   "source": [
    "from urllib import request\n",
    "import json\n",
    "from pprint import pprint\n",
    "\n",
    "\n",
    "census_api_key = 'a75d4e7c4e4f5e9b49e897f2c40b2354a621c985' #get your key from https://api.census.gov/data/key_signup.html\n",
    "\n",
    "\n",
    "url_str = 'https://api.census.gov/data/2016/acs/acs5?get=B01001_001E,B01001_002E,NAME&for=county:*&in=state:51&key='+census_api_key # create the url of your census data\n",
    "\n",
    "response = request.urlopen(url_str) # read the response into computer\n",
    "\n",
    "max_pop = 0\n",
    "max_county =''\n",
    "html_str = response.read().decode(\"utf-8\") # convert the response into string\n",
    "if (html_str):\n",
    "    json_data = json.loads(html_str) # convert the string into json\n",
    "    print (json_data[0])\n",
    "    for v1,v2,name,state,county in json_data[1:]:\n",
    "        if max_pop <= int(v2)/int(v1):\n",
    "            max_pop = int(v2)/int(v1)\n",
    "            max_county = name\n",
    "print (\"The {} has {} pop\".format(max_county,max_pop))"
   ]
  },
  {
   "cell_type": "markdown",
   "metadata": {},
   "source": [
    "Sussex County has the largest male to resident ratio with an approximate ratio of 0.66."
   ]
  },
  {
   "cell_type": "code",
   "execution_count": null,
   "metadata": {},
   "outputs": [],
   "source": []
  }
 ],
 "metadata": {
  "kernelspec": {
   "display_name": "conda_python3",
   "language": "python",
   "name": "conda_python3"
  },
  "language_info": {
   "codemirror_mode": {
    "name": "ipython",
    "version": 3
   },
   "file_extension": ".py",
   "mimetype": "text/x-python",
   "name": "python",
   "nbconvert_exporter": "python",
   "pygments_lexer": "ipython3",
   "version": "3.6.5"
  }
 },
 "nbformat": 4,
 "nbformat_minor": 4
}
